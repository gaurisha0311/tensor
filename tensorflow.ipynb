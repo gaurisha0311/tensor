{
 "cells": [
  {
   "cell_type": "code",
   "execution_count": 1,
   "id": "aab712fe-cfaf-4f7d-8eff-36211d8dcd33",
   "metadata": {},
   "outputs": [
    {
     "data": {
      "text/plain": [
       "'\\nIn TensorFlow, the primary data structure is a Tensor, representing multi-dimensional arrays. Other structures\\ninclude TensorFlow Dataset for efficient input handling, \\nSparseTensor for sparse data, RaggedTensor for irregular data, and TensorArray for dynamic-sized tensor lists.\\n'"
      ]
     },
     "execution_count": 1,
     "metadata": {},
     "output_type": "execute_result"
    }
   ],
   "source": [
    "#q1\n",
    "#1\n",
    "'''\n",
    "In TensorFlow, the primary data structure is a Tensor, representing multi-dimensional arrays. Other structures\n",
    "include TensorFlow Dataset for efficient input handling, \n",
    "SparseTensor for sparse data, RaggedTensor for irregular data, and TensorArray for dynamic-sized tensor lists.\n",
    "'''\n"
   ]
  },
  {
   "cell_type": "code",
   "execution_count": 2,
   "id": "51769452-a53c-48e5-b330-ce353d0b7f8f",
   "metadata": {},
   "outputs": [
    {
     "data": {
      "text/plain": [
       "'\\nConstant is immutable, while Variable is mutable.\\n'"
      ]
     },
     "execution_count": 2,
     "metadata": {},
     "output_type": "execute_result"
    }
   ],
   "source": [
    "#2\n",
    "'''\n",
    "Constant is immutable, while Variable is mutable.\n",
    "'''"
   ]
  },
  {
   "cell_type": "code",
   "execution_count": 3,
   "id": "2379cdfc-1dee-40b2-8936-0b09064a83d8",
   "metadata": {},
   "outputs": [
    {
     "name": "stderr",
     "output_type": "stream",
     "text": [
      "2024-01-14 12:12:42.628800: I external/local_tsl/tsl/cuda/cudart_stub.cc:31] Could not find cuda drivers on your machine, GPU will not be used.\n",
      "2024-01-14 12:12:42.694902: E external/local_xla/xla/stream_executor/cuda/cuda_dnn.cc:9261] Unable to register cuDNN factory: Attempting to register factory for plugin cuDNN when one has already been registered\n",
      "2024-01-14 12:12:42.694965: E external/local_xla/xla/stream_executor/cuda/cuda_fft.cc:607] Unable to register cuFFT factory: Attempting to register factory for plugin cuFFT when one has already been registered\n",
      "2024-01-14 12:12:42.696342: E external/local_xla/xla/stream_executor/cuda/cuda_blas.cc:1515] Unable to register cuBLAS factory: Attempting to register factory for plugin cuBLAS when one has already been registered\n",
      "2024-01-14 12:12:42.705182: I external/local_tsl/tsl/cuda/cudart_stub.cc:31] Could not find cuda drivers on your machine, GPU will not be used.\n",
      "2024-01-14 12:12:42.705872: I tensorflow/core/platform/cpu_feature_guard.cc:182] This TensorFlow binary is optimized to use available CPU instructions in performance-critical operations.\n",
      "To enable the following instructions: AVX2 FMA, in other operations, rebuild TensorFlow with the appropriate compiler flags.\n",
      "2024-01-14 12:12:43.876588: W tensorflow/compiler/tf2tensorrt/utils/py_utils.cc:38] TF-TRT Warning: Could not find TensorRT\n"
     ]
    },
    {
     "name": "stdout",
     "output_type": "stream",
     "text": [
      "Matrix A:\n",
      "[[-2.0080671  1.0679591]\n",
      " [-0.9340753  1.3231568]]\n"
     ]
    },
    {
     "ename": "AttributeError",
     "evalue": "module 'tensorflow' has no attribute 'truncated_normal'",
     "output_type": "error",
     "traceback": [
      "\u001b[0;31m---------------------------------------------------------------------------\u001b[0m",
      "\u001b[0;31mAttributeError\u001b[0m                            Traceback (most recent call last)",
      "Cell \u001b[0;32mIn[3], line 10\u001b[0m\n\u001b[1;32m      7\u001b[0m \u001b[38;5;28mprint\u001b[39m(matrix_A\u001b[38;5;241m.\u001b[39mnumpy())\n\u001b[1;32m      9\u001b[0m \u001b[38;5;66;03m# Create a Gaussian matrix B (2x2) using TensorFlow's truncated_normal function\u001b[39;00m\n\u001b[0;32m---> 10\u001b[0m matrix_B \u001b[38;5;241m=\u001b[39m \u001b[43mtf\u001b[49m\u001b[38;5;241;43m.\u001b[39;49m\u001b[43mtruncated_normal\u001b[49m(shape\u001b[38;5;241m=\u001b[39m(\u001b[38;5;241m2\u001b[39m, \u001b[38;5;241m2\u001b[39m), mean\u001b[38;5;241m=\u001b[39m\u001b[38;5;241m0.0\u001b[39m, stddev\u001b[38;5;241m=\u001b[39m\u001b[38;5;241m1.0\u001b[39m)\n\u001b[1;32m     11\u001b[0m \u001b[38;5;28mprint\u001b[39m(\u001b[38;5;124m\"\u001b[39m\u001b[38;5;130;01m\\n\u001b[39;00m\u001b[38;5;124mMatrix B:\u001b[39m\u001b[38;5;124m\"\u001b[39m)\n\u001b[1;32m     12\u001b[0m \u001b[38;5;28mprint\u001b[39m(matrix_B\u001b[38;5;241m.\u001b[39mnumpy())\n",
      "\u001b[0;31mAttributeError\u001b[0m: module 'tensorflow' has no attribute 'truncated_normal'"
     ]
    }
   ],
   "source": [
    "#q2\n",
    "import tensorflow as tf\n",
    "\n",
    "# Create a normal matrix A (2x2) using TensorFlow's random_normal function\n",
    "matrix_A = tf.random.normal(shape=(2, 2), mean=0.0, stddev=1.0)\n",
    "print(\"Matrix A:\")\n",
    "print(matrix_A.numpy())\n",
    "\n",
    "# Create a Gaussian matrix B (2x2) using TensorFlow's truncated_normal function\n",
    "matrix_B = tf.truncated_normal(shape=(2, 2), mean=0.0, stddev=1.0)\n",
    "print(\"\\nMatrix B:\")\n",
    "print(matrix_B.numpy())\n",
    "\n",
    "# Create a matrix C (2x2) with values drawn from a normal distribution with mean=2, stddev=0.x\n",
    "matrix_C = tf.random.normal(shape=(2, 2), mean=2.0, stddev=0.1)\n",
    "print(\"\\nMatrix C:\")\n",
    "print(matrix_C.numpy())\n",
    "\n",
    "# Perform matrix addition between matrix A and matrix B, and store the result in matrix D\n",
    "matrix_D = tf.add(matrix_A, matrix_B)\n",
    "print(\"\\nMatrix D (Result of A + B):\")\n",
    "print(matrix_D.numpy())\n",
    "\n",
    "# Perform matrix multiplication between matrix C and matrix D, and store the result in matrix E\n",
    "matrix_E = tf.matmul(matrix_C, matrix_D)\n",
    "print(\"\\nMatrix E (Result of C * D):\")\n",
    "print(matrix_E.numpy())\n"
   ]
  },
  {
   "cell_type": "code",
   "execution_count": null,
   "id": "56c3e129-8d4a-4f58-a1d1-a3243582b70b",
   "metadata": {},
   "outputs": [],
   "source": []
  }
 ],
 "metadata": {
  "kernelspec": {
   "display_name": "Python 3 (ipykernel)",
   "language": "python",
   "name": "python3"
  },
  "language_info": {
   "codemirror_mode": {
    "name": "ipython",
    "version": 3
   },
   "file_extension": ".py",
   "mimetype": "text/x-python",
   "name": "python",
   "nbconvert_exporter": "python",
   "pygments_lexer": "ipython3",
   "version": "3.10.8"
  }
 },
 "nbformat": 4,
 "nbformat_minor": 5
}
